{
 "cells": [
  {
   "cell_type": "code",
   "execution_count": 1,
   "metadata": {},
   "outputs": [],
   "source": [
    "import cv2"
   ]
  },
  {
   "cell_type": "code",
   "execution_count": 2,
   "metadata": {},
   "outputs": [],
   "source": [
    "def webCamFeed():\n",
    "    windowNames=['Binary', 'Binary Inv', 'Zero', 'Zero Inv', 'Trunc']\n",
    "    \n",
    "    cap = cv2.VideoCapture(0)\n",
    "    \n",
    "    if cap.isOpened():\n",
    "        ret, frame = cap.read()\n",
    "    else:\n",
    "        ret = False\n",
    "    print (ret)  \n",
    "    try:\n",
    "\n",
    "        while ret:\n",
    "\n",
    "            ret, frame = cap.read()\n",
    "            \n",
    "            th= 127\n",
    "            max_value= 255\n",
    "            #print(ret)\n",
    "            #frame = cv2.cvtColor(frame, cv2.COLOR_BGR2GRAY) #+ cv2.THRESH_OTSU\n",
    "            \n",
    "            ret, o1 =cv2.threshold(frame, th, max_value, cv2.THRESH_BINARY )\n",
    "            ret, o2 =cv2.threshold(frame, th, max_value, cv2.THRESH_BINARY_INV )\n",
    "            ret, o3 =cv2.threshold(frame, th, max_value, cv2.THRESH_TOZERO )\n",
    "            ret, o4 =cv2.threshold(frame, th, max_value, cv2.THRESH_TOZERO_INV)\n",
    "            ret, o5 =cv2.threshold(frame, th, max_value, cv2.THRESH_TRUNC)\n",
    "\n",
    "            #print ('threshold completed')\n",
    "            output= [o1, o2, o3, o4, o5]\n",
    "            #print(len(output))\n",
    "            for i in range(5):                \n",
    "                #print (i)\n",
    "                cv2.imshow(windowNames[i], output[i])\n",
    "\n",
    "            if cv2.waitKey(1)==27:\n",
    "                break\n",
    "    except:\n",
    "        print('error ')\n",
    "    \n",
    "    cv2.destroyAllWindows()\n",
    "    cap.release()"
   ]
  },
  {
   "cell_type": "code",
   "execution_count": 3,
   "metadata": {},
   "outputs": [
    {
     "name": "stdout",
     "output_type": "stream",
     "text": [
      "True\n",
      "error \n"
     ]
    }
   ],
   "source": [
    "webCamFeed()"
   ]
  },
  {
   "cell_type": "code",
   "execution_count": null,
   "metadata": {},
   "outputs": [],
   "source": []
  }
 ],
 "metadata": {
  "kernelspec": {
   "display_name": "Python (condaOpenCV)",
   "language": "python",
   "name": "condaopencv"
  },
  "language_info": {
   "codemirror_mode": {
    "name": "ipython",
    "version": 3
   },
   "file_extension": ".py",
   "mimetype": "text/x-python",
   "name": "python",
   "nbconvert_exporter": "python",
   "pygments_lexer": "ipython3",
   "version": "3.5.5"
  }
 },
 "nbformat": 4,
 "nbformat_minor": 2
}
