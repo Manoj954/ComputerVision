{
 "cells": [
  {
   "cell_type": "code",
   "execution_count": 2,
   "metadata": {},
   "outputs": [],
   "source": [
    "import time\n",
    "import os\n",
    "import cv2\n",
    "import numpy as np"
   ]
  },
  {
   "cell_type": "code",
   "execution_count": 3,
   "metadata": {},
   "outputs": [],
   "source": [
    "def effects():\n",
    "    path = \"D:\\\\Projects\\\\Data\\\\unsupervised-image-clustering-master\\\\animal_images\\\\C1-Abyssinian\\\\\"\n",
    "    \n",
    "    img1= cv2.imread(os.path.join(path,\"Abyssinian_1.jpg\"), 1)\n",
    "    img2= cv2.imread(os.path.join(path,\"Abyssinian_2.jpg\"), 1)\n",
    "    \n",
    "    WIDTH = 600\n",
    "    HEIGHT = 400\n",
    "    \n",
    "    img1 = cv2.resize(img1, (WIDTH,HEIGHT), interpolation=cv2.INTER_CUBIC)\n",
    "    img2 = cv2.resize(img2, (WIDTH,HEIGHT), interpolation=cv2.INTER_CUBIC)\n",
    "    \n",
    "    #alpha = 0.0\n",
    "    #beta = 1.0\n",
    "    gamma = 0\n",
    "    \n",
    "    for i in np.linspace(0, 1, 10):\n",
    "        alpha = i\n",
    "        beta = 1- alpha\n",
    "        output = cv2.addWeighted(img1, alpha, img2, beta, gamma)\n",
    "        cv2.imshow(\"Transition\", output)\n",
    "        time.sleep(0.25)\n",
    "        if cv2.waitKey(1) == 27:\n",
    "            break\n",
    "        \n",
    "    cv2.destroyAllWindows()\n",
    "        "
   ]
  },
  {
   "cell_type": "code",
   "execution_count": null,
   "metadata": {},
   "outputs": [],
   "source": [
    "effects()"
   ]
  },
  {
   "cell_type": "code",
   "execution_count": 4,
   "metadata": {},
   "outputs": [],
   "source": [
    "path = \"D:\\\\Projects\\\\Data\\\\unsupervised-image-clustering-master\\\\animal_images\\\\C1-Abyssinian\\\\\"\n",
    "    \n",
    "img1= cv2.imread(os.path.join(path,\"Abyssinian_1.jpg\"), 1)\n",
    "img2= cv2.imread(os.path.join(path,\"Abyssinian_2.jpg\"), 1)"
   ]
  },
  {
   "cell_type": "code",
   "execution_count": 5,
   "metadata": {},
   "outputs": [
    {
     "data": {
      "text/plain": [
       "array([[[27, 38, 30],\n",
       "        [27, 38, 30],\n",
       "        [27, 38, 30],\n",
       "        ...,\n",
       "        [38, 51, 43],\n",
       "        [36, 49, 41],\n",
       "        [35, 48, 40]],\n",
       "\n",
       "       [[26, 37, 29],\n",
       "        [26, 37, 29],\n",
       "        [27, 38, 30],\n",
       "        ...,\n",
       "        [38, 51, 43],\n",
       "        [37, 50, 42],\n",
       "        [35, 48, 40]],\n",
       "\n",
       "       [[26, 37, 29],\n",
       "        [26, 37, 29],\n",
       "        [26, 37, 29],\n",
       "        ...,\n",
       "        [39, 52, 44],\n",
       "        [38, 51, 43],\n",
       "        [36, 49, 41]],\n",
       "\n",
       "       ...,\n",
       "\n",
       "       [[11, 19, 12],\n",
       "        [10, 18, 11],\n",
       "        [10, 18, 11],\n",
       "        ...,\n",
       "        [12, 23, 15],\n",
       "        [12, 23, 15],\n",
       "        [12, 23, 15]],\n",
       "\n",
       "       [[11, 19, 12],\n",
       "        [10, 18, 11],\n",
       "        [10, 18, 11],\n",
       "        ...,\n",
       "        [12, 23, 15],\n",
       "        [12, 23, 15],\n",
       "        [12, 23, 15]],\n",
       "\n",
       "       [[11, 19, 12],\n",
       "        [10, 18, 11],\n",
       "        [ 9, 17, 10],\n",
       "        ...,\n",
       "        [12, 23, 15],\n",
       "        [12, 23, 15],\n",
       "        [12, 23, 15]]], dtype=uint8)"
      ]
     },
     "execution_count": 5,
     "metadata": {},
     "output_type": "execute_result"
    }
   ],
   "source": [
    "img1"
   ]
  },
  {
   "cell_type": "code",
   "execution_count": null,
   "metadata": {},
   "outputs": [],
   "source": [
    "output = abs(255-img1)\n",
    "cv2.imshow(\"1\",output)\n",
    "while (True):\n",
    "    if cv2.waitKey(1) == 27:\n",
    "            cv2.destroyAllWindows()\n",
    "            break\n",
    "    "
   ]
  },
  {
   "cell_type": "code",
   "execution_count": 4,
   "metadata": {},
   "outputs": [],
   "source": [
    "output = abs(255-img1)\n",
    "cv2.imshow(\"1\",output)"
   ]
  },
  {
   "cell_type": "code",
   "execution_count": null,
   "metadata": {},
   "outputs": [],
   "source": [
    "img1.shape"
   ]
  },
  {
   "cell_type": "code",
   "execution_count": null,
   "metadata": {},
   "outputs": [],
   "source": [
    "img2.shape"
   ]
  },
  {
   "cell_type": "code",
   "execution_count": null,
   "metadata": {},
   "outputs": [],
   "source": [
    "def emptyFunction():\n",
    "    pass"
   ]
  },
  {
   "cell_type": "code",
   "execution_count": null,
   "metadata": {},
   "outputs": [],
   "source": [
    "def effectswithTrackBar():\n",
    "    path = \"D:\\\\Projects\\\\Data\\\\unsupervised-image-clustering-master\\\\animal_images\\\\C1-Abyssinian\\\\\"\n",
    "    \n",
    "    img1= cv2.imread(os.path.join(path,\"Abyssinian_1.jpg\"), 1)\n",
    "    img2= cv2.imread(os.path.join(path,\"Abyssinian_2.jpg\"), 1)\n",
    "    \n",
    "    WIDTH = 600\n",
    "    HEIGHT = 400\n",
    "    \n",
    "    img1 = cv2.resize(img1, (WIDTH,HEIGHT), interpolation=cv2.INTER_CUBIC)\n",
    "    img2 = cv2.resize(img2, (WIDTH,HEIGHT), interpolation=cv2.INTER_CUBIC)\n",
    "    \n",
    "    #alpha = 0.0\n",
    "    #beta = 1.0\n",
    "    gamma = 0\n",
    "    \n",
    "    cv2.namedWindow(\"Transition\")\n",
    "    cv2.createTrackbar(\"Alpha\", \"Transition\", 0, 10, emptyFunction)\n",
    "    \n",
    "    while (True):\n",
    "        alpha = cv2.getTrackbarPos(\"Alpha\", \"Transition\") / 10\n",
    "        beta = 1 - alpha\n",
    "        output = cv2.addWeighted(img1, alpha, img2, beta, gamma)\n",
    "        cv2.imshow(\"Transition\", output)\n",
    "        print(alpha, beta)\n",
    "        if cv2.waitKey(1) == 27:\n",
    "            break\n",
    "        \n",
    "    cv2.destroyAllWindows()\n",
    "        "
   ]
  },
  {
   "cell_type": "code",
   "execution_count": null,
   "metadata": {},
   "outputs": [],
   "source": [
    "effectswithTrackBar()"
   ]
  },
  {
   "cell_type": "code",
   "execution_count": null,
   "metadata": {},
   "outputs": [],
   "source": []
  }
 ],
 "metadata": {
  "kernelspec": {
   "display_name": "Python (condaOpenCV)",
   "language": "python",
   "name": "condaopencv"
  }
 },
 "nbformat": 4,
 "nbformat_minor": 2
}
